{
  "nbformat": 4,
  "nbformat_minor": 0,
  "metadata": {
    "colab": {
      "provenance": [],
      "collapsed_sections": [],
      "authorship_tag": "ABX9TyNRgQnECIEUbAc+WSX7/IY7",
      "include_colab_link": true
    },
    "kernelspec": {
      "name": "python3",
      "display_name": "Python 3"
    },
    "language_info": {
      "name": "python"
    },
    "widgets": {
      "application/vnd.jupyter.widget-state+json": {
        "74342c00ee6540bd962222086badbec9": {
          "model_module": "@jupyter-widgets/controls",
          "model_name": "HBoxModel",
          "model_module_version": "1.5.0",
          "state": {
            "_dom_classes": [],
            "_model_module": "@jupyter-widgets/controls",
            "_model_module_version": "1.5.0",
            "_model_name": "HBoxModel",
            "_view_count": null,
            "_view_module": "@jupyter-widgets/controls",
            "_view_module_version": "1.5.0",
            "_view_name": "HBoxView",
            "box_style": "",
            "children": [
              "IPY_MODEL_158374368e3143828fa4550d58ea9903",
              "IPY_MODEL_aa0ee22ad08f45088d2fc5a5a7952796",
              "IPY_MODEL_d54aaa9634cf4f1ebf06bc0f95992499"
            ],
            "layout": "IPY_MODEL_05920540e57b46c492e3fc5cafb1db7e"
          }
        },
        "158374368e3143828fa4550d58ea9903": {
          "model_module": "@jupyter-widgets/controls",
          "model_name": "HTMLModel",
          "model_module_version": "1.5.0",
          "state": {
            "_dom_classes": [],
            "_model_module": "@jupyter-widgets/controls",
            "_model_module_version": "1.5.0",
            "_model_name": "HTMLModel",
            "_view_count": null,
            "_view_module": "@jupyter-widgets/controls",
            "_view_module_version": "1.5.0",
            "_view_name": "HTMLView",
            "description": "",
            "description_tooltip": null,
            "layout": "IPY_MODEL_3035e9def0ac4dc18a9e3f69c1d21efd",
            "placeholder": "​",
            "style": "IPY_MODEL_a8f7c4297cc0447db3f3bfd2af9eb5f9",
            "value": "100%"
          }
        },
        "aa0ee22ad08f45088d2fc5a5a7952796": {
          "model_module": "@jupyter-widgets/controls",
          "model_name": "FloatProgressModel",
          "model_module_version": "1.5.0",
          "state": {
            "_dom_classes": [],
            "_model_module": "@jupyter-widgets/controls",
            "_model_module_version": "1.5.0",
            "_model_name": "FloatProgressModel",
            "_view_count": null,
            "_view_module": "@jupyter-widgets/controls",
            "_view_module_version": "1.5.0",
            "_view_name": "ProgressView",
            "bar_style": "success",
            "description": "",
            "description_tooltip": null,
            "layout": "IPY_MODEL_75695d278adc46fca79d9d2b9ab0ce1b",
            "max": 559580,
            "min": 0,
            "orientation": "horizontal",
            "style": "IPY_MODEL_41d2912ad4ea426d971ca34f95f7ff9a",
            "value": 559580
          }
        },
        "d54aaa9634cf4f1ebf06bc0f95992499": {
          "model_module": "@jupyter-widgets/controls",
          "model_name": "HTMLModel",
          "model_module_version": "1.5.0",
          "state": {
            "_dom_classes": [],
            "_model_module": "@jupyter-widgets/controls",
            "_model_module_version": "1.5.0",
            "_model_name": "HTMLModel",
            "_view_count": null,
            "_view_module": "@jupyter-widgets/controls",
            "_view_module_version": "1.5.0",
            "_view_name": "HTMLView",
            "description": "",
            "description_tooltip": null,
            "layout": "IPY_MODEL_d32ad6afa3394beabadfdf4a898c681e",
            "placeholder": "​",
            "style": "IPY_MODEL_c0d548a3e2064ddbaec781f69395b9c4",
            "value": " 559580/559580 [00:01&lt;00:00, 584431.15it/s]"
          }
        },
        "05920540e57b46c492e3fc5cafb1db7e": {
          "model_module": "@jupyter-widgets/base",
          "model_name": "LayoutModel",
          "model_module_version": "1.2.0",
          "state": {
            "_model_module": "@jupyter-widgets/base",
            "_model_module_version": "1.2.0",
            "_model_name": "LayoutModel",
            "_view_count": null,
            "_view_module": "@jupyter-widgets/base",
            "_view_module_version": "1.2.0",
            "_view_name": "LayoutView",
            "align_content": null,
            "align_items": null,
            "align_self": null,
            "border": null,
            "bottom": null,
            "display": null,
            "flex": null,
            "flex_flow": null,
            "grid_area": null,
            "grid_auto_columns": null,
            "grid_auto_flow": null,
            "grid_auto_rows": null,
            "grid_column": null,
            "grid_gap": null,
            "grid_row": null,
            "grid_template_areas": null,
            "grid_template_columns": null,
            "grid_template_rows": null,
            "height": null,
            "justify_content": null,
            "justify_items": null,
            "left": null,
            "margin": null,
            "max_height": null,
            "max_width": null,
            "min_height": null,
            "min_width": null,
            "object_fit": null,
            "object_position": null,
            "order": null,
            "overflow": null,
            "overflow_x": null,
            "overflow_y": null,
            "padding": null,
            "right": null,
            "top": null,
            "visibility": null,
            "width": null
          }
        },
        "3035e9def0ac4dc18a9e3f69c1d21efd": {
          "model_module": "@jupyter-widgets/base",
          "model_name": "LayoutModel",
          "model_module_version": "1.2.0",
          "state": {
            "_model_module": "@jupyter-widgets/base",
            "_model_module_version": "1.2.0",
            "_model_name": "LayoutModel",
            "_view_count": null,
            "_view_module": "@jupyter-widgets/base",
            "_view_module_version": "1.2.0",
            "_view_name": "LayoutView",
            "align_content": null,
            "align_items": null,
            "align_self": null,
            "border": null,
            "bottom": null,
            "display": null,
            "flex": null,
            "flex_flow": null,
            "grid_area": null,
            "grid_auto_columns": null,
            "grid_auto_flow": null,
            "grid_auto_rows": null,
            "grid_column": null,
            "grid_gap": null,
            "grid_row": null,
            "grid_template_areas": null,
            "grid_template_columns": null,
            "grid_template_rows": null,
            "height": null,
            "justify_content": null,
            "justify_items": null,
            "left": null,
            "margin": null,
            "max_height": null,
            "max_width": null,
            "min_height": null,
            "min_width": null,
            "object_fit": null,
            "object_position": null,
            "order": null,
            "overflow": null,
            "overflow_x": null,
            "overflow_y": null,
            "padding": null,
            "right": null,
            "top": null,
            "visibility": null,
            "width": null
          }
        },
        "a8f7c4297cc0447db3f3bfd2af9eb5f9": {
          "model_module": "@jupyter-widgets/controls",
          "model_name": "DescriptionStyleModel",
          "model_module_version": "1.5.0",
          "state": {
            "_model_module": "@jupyter-widgets/controls",
            "_model_module_version": "1.5.0",
            "_model_name": "DescriptionStyleModel",
            "_view_count": null,
            "_view_module": "@jupyter-widgets/base",
            "_view_module_version": "1.2.0",
            "_view_name": "StyleView",
            "description_width": ""
          }
        },
        "75695d278adc46fca79d9d2b9ab0ce1b": {
          "model_module": "@jupyter-widgets/base",
          "model_name": "LayoutModel",
          "model_module_version": "1.2.0",
          "state": {
            "_model_module": "@jupyter-widgets/base",
            "_model_module_version": "1.2.0",
            "_model_name": "LayoutModel",
            "_view_count": null,
            "_view_module": "@jupyter-widgets/base",
            "_view_module_version": "1.2.0",
            "_view_name": "LayoutView",
            "align_content": null,
            "align_items": null,
            "align_self": null,
            "border": null,
            "bottom": null,
            "display": null,
            "flex": null,
            "flex_flow": null,
            "grid_area": null,
            "grid_auto_columns": null,
            "grid_auto_flow": null,
            "grid_auto_rows": null,
            "grid_column": null,
            "grid_gap": null,
            "grid_row": null,
            "grid_template_areas": null,
            "grid_template_columns": null,
            "grid_template_rows": null,
            "height": null,
            "justify_content": null,
            "justify_items": null,
            "left": null,
            "margin": null,
            "max_height": null,
            "max_width": null,
            "min_height": null,
            "min_width": null,
            "object_fit": null,
            "object_position": null,
            "order": null,
            "overflow": null,
            "overflow_x": null,
            "overflow_y": null,
            "padding": null,
            "right": null,
            "top": null,
            "visibility": null,
            "width": null
          }
        },
        "41d2912ad4ea426d971ca34f95f7ff9a": {
          "model_module": "@jupyter-widgets/controls",
          "model_name": "ProgressStyleModel",
          "model_module_version": "1.5.0",
          "state": {
            "_model_module": "@jupyter-widgets/controls",
            "_model_module_version": "1.5.0",
            "_model_name": "ProgressStyleModel",
            "_view_count": null,
            "_view_module": "@jupyter-widgets/base",
            "_view_module_version": "1.2.0",
            "_view_name": "StyleView",
            "bar_color": null,
            "description_width": ""
          }
        },
        "d32ad6afa3394beabadfdf4a898c681e": {
          "model_module": "@jupyter-widgets/base",
          "model_name": "LayoutModel",
          "model_module_version": "1.2.0",
          "state": {
            "_model_module": "@jupyter-widgets/base",
            "_model_module_version": "1.2.0",
            "_model_name": "LayoutModel",
            "_view_count": null,
            "_view_module": "@jupyter-widgets/base",
            "_view_module_version": "1.2.0",
            "_view_name": "LayoutView",
            "align_content": null,
            "align_items": null,
            "align_self": null,
            "border": null,
            "bottom": null,
            "display": null,
            "flex": null,
            "flex_flow": null,
            "grid_area": null,
            "grid_auto_columns": null,
            "grid_auto_flow": null,
            "grid_auto_rows": null,
            "grid_column": null,
            "grid_gap": null,
            "grid_row": null,
            "grid_template_areas": null,
            "grid_template_columns": null,
            "grid_template_rows": null,
            "height": null,
            "justify_content": null,
            "justify_items": null,
            "left": null,
            "margin": null,
            "max_height": null,
            "max_width": null,
            "min_height": null,
            "min_width": null,
            "object_fit": null,
            "object_position": null,
            "order": null,
            "overflow": null,
            "overflow_x": null,
            "overflow_y": null,
            "padding": null,
            "right": null,
            "top": null,
            "visibility": null,
            "width": null
          }
        },
        "c0d548a3e2064ddbaec781f69395b9c4": {
          "model_module": "@jupyter-widgets/controls",
          "model_name": "DescriptionStyleModel",
          "model_module_version": "1.5.0",
          "state": {
            "_model_module": "@jupyter-widgets/controls",
            "_model_module_version": "1.5.0",
            "_model_name": "DescriptionStyleModel",
            "_view_count": null,
            "_view_module": "@jupyter-widgets/base",
            "_view_module_version": "1.2.0",
            "_view_name": "StyleView",
            "description_width": ""
          }
        }
      }
    }
  },
  "cells": [
    {
      "cell_type": "markdown",
      "metadata": {
        "id": "view-in-github",
        "colab_type": "text"
      },
      "source": [
        "<a href=\"https://colab.research.google.com/github/AdityaKendre02/BreastMNIST-Classification-using-CNN/blob/main/Aditya_Kendre_DH302_Assignment_2_Final.ipynb\" target=\"_parent\"><img src=\"https://colab.research.google.com/assets/colab-badge.svg\" alt=\"Open In Colab\"/></a>"
      ]
    },
    {
      "cell_type": "code",
      "source": [
        "# Code to Measure time taken by program to execute.\n",
        "import time\n",
        "  \n",
        "# store starting time\n",
        "begin = time.time()"
      ],
      "metadata": {
        "id": "NsT_MalAmG8g"
      },
      "execution_count": 1,
      "outputs": []
    },
    {
      "cell_type": "markdown",
      "source": [
        "# Q1) Select any one of the above given datasets which are part of MedMNIST"
      ],
      "metadata": {
        "id": "K1Dy_e1H4jhq"
      }
    },
    {
      "cell_type": "markdown",
      "source": [
        "Dataset Chosen : Breast MNIST"
      ],
      "metadata": {
        "id": "djF1D4nD0xd_"
      }
    },
    {
      "cell_type": "code",
      "source": [
        "!pip install medmnist"
      ],
      "metadata": {
        "colab": {
          "base_uri": "https://localhost:8080/"
        },
        "id": "c1DSRM7RyVD2",
        "outputId": "abbfe615-a885-418f-bd6c-0f2d346ac7a2"
      },
      "execution_count": 2,
      "outputs": [
        {
          "output_type": "stream",
          "name": "stdout",
          "text": [
            "Looking in indexes: https://pypi.org/simple, https://us-python.pkg.dev/colab-wheels/public/simple/\n",
            "Collecting medmnist\n",
            "  Downloading medmnist-2.1.0-py3-none-any.whl (21 kB)\n",
            "Requirement already satisfied: scikit-learn in /usr/local/lib/python3.7/dist-packages (from medmnist) (1.0.2)\n",
            "Requirement already satisfied: tqdm in /usr/local/lib/python3.7/dist-packages (from medmnist) (4.64.1)\n",
            "Requirement already satisfied: torchvision in /usr/local/lib/python3.7/dist-packages (from medmnist) (0.13.1+cu113)\n",
            "Requirement already satisfied: scikit-image in /usr/local/lib/python3.7/dist-packages (from medmnist) (0.18.3)\n",
            "Collecting fire\n",
            "  Downloading fire-0.4.0.tar.gz (87 kB)\n",
            "\u001b[K     |████████████████████████████████| 87 kB 2.6 MB/s \n",
            "\u001b[?25hRequirement already satisfied: torch in /usr/local/lib/python3.7/dist-packages (from medmnist) (1.12.1+cu113)\n",
            "Requirement already satisfied: numpy in /usr/local/lib/python3.7/dist-packages (from medmnist) (1.21.6)\n",
            "Requirement already satisfied: Pillow in /usr/local/lib/python3.7/dist-packages (from medmnist) (7.1.2)\n",
            "Requirement already satisfied: pandas in /usr/local/lib/python3.7/dist-packages (from medmnist) (1.3.5)\n",
            "Requirement already satisfied: six in /usr/local/lib/python3.7/dist-packages (from fire->medmnist) (1.15.0)\n",
            "Requirement already satisfied: termcolor in /usr/local/lib/python3.7/dist-packages (from fire->medmnist) (2.0.1)\n",
            "Requirement already satisfied: python-dateutil>=2.7.3 in /usr/local/lib/python3.7/dist-packages (from pandas->medmnist) (2.8.2)\n",
            "Requirement already satisfied: pytz>=2017.3 in /usr/local/lib/python3.7/dist-packages (from pandas->medmnist) (2022.5)\n",
            "Requirement already satisfied: matplotlib!=3.0.0,>=2.0.0 in /usr/local/lib/python3.7/dist-packages (from scikit-image->medmnist) (3.2.2)\n",
            "Requirement already satisfied: imageio>=2.3.0 in /usr/local/lib/python3.7/dist-packages (from scikit-image->medmnist) (2.9.0)\n",
            "Requirement already satisfied: networkx>=2.0 in /usr/local/lib/python3.7/dist-packages (from scikit-image->medmnist) (2.6.3)\n",
            "Requirement already satisfied: tifffile>=2019.7.26 in /usr/local/lib/python3.7/dist-packages (from scikit-image->medmnist) (2021.11.2)\n",
            "Requirement already satisfied: PyWavelets>=1.1.1 in /usr/local/lib/python3.7/dist-packages (from scikit-image->medmnist) (1.3.0)\n",
            "Requirement already satisfied: scipy>=1.0.1 in /usr/local/lib/python3.7/dist-packages (from scikit-image->medmnist) (1.7.3)\n",
            "Requirement already satisfied: kiwisolver>=1.0.1 in /usr/local/lib/python3.7/dist-packages (from matplotlib!=3.0.0,>=2.0.0->scikit-image->medmnist) (1.4.4)\n",
            "Requirement already satisfied: pyparsing!=2.0.4,!=2.1.2,!=2.1.6,>=2.0.1 in /usr/local/lib/python3.7/dist-packages (from matplotlib!=3.0.0,>=2.0.0->scikit-image->medmnist) (3.0.9)\n",
            "Requirement already satisfied: cycler>=0.10 in /usr/local/lib/python3.7/dist-packages (from matplotlib!=3.0.0,>=2.0.0->scikit-image->medmnist) (0.11.0)\n",
            "Requirement already satisfied: typing-extensions in /usr/local/lib/python3.7/dist-packages (from kiwisolver>=1.0.1->matplotlib!=3.0.0,>=2.0.0->scikit-image->medmnist) (4.1.1)\n",
            "Requirement already satisfied: threadpoolctl>=2.0.0 in /usr/local/lib/python3.7/dist-packages (from scikit-learn->medmnist) (3.1.0)\n",
            "Requirement already satisfied: joblib>=0.11 in /usr/local/lib/python3.7/dist-packages (from scikit-learn->medmnist) (1.2.0)\n",
            "Requirement already satisfied: requests in /usr/local/lib/python3.7/dist-packages (from torchvision->medmnist) (2.23.0)\n",
            "Requirement already satisfied: certifi>=2017.4.17 in /usr/local/lib/python3.7/dist-packages (from requests->torchvision->medmnist) (2022.9.24)\n",
            "Requirement already satisfied: urllib3!=1.25.0,!=1.25.1,<1.26,>=1.21.1 in /usr/local/lib/python3.7/dist-packages (from requests->torchvision->medmnist) (1.24.3)\n",
            "Requirement already satisfied: idna<3,>=2.5 in /usr/local/lib/python3.7/dist-packages (from requests->torchvision->medmnist) (2.10)\n",
            "Requirement already satisfied: chardet<4,>=3.0.2 in /usr/local/lib/python3.7/dist-packages (from requests->torchvision->medmnist) (3.0.4)\n",
            "Building wheels for collected packages: fire\n",
            "  Building wheel for fire (setup.py) ... \u001b[?25l\u001b[?25hdone\n",
            "  Created wheel for fire: filename=fire-0.4.0-py2.py3-none-any.whl size=115942 sha256=499081137a17857fe78eefb8ba5768bfd444e1d371c5a38ac3b92c22a0ab6c8c\n",
            "  Stored in directory: /root/.cache/pip/wheels/8a/67/fb/2e8a12fa16661b9d5af1f654bd199366799740a85c64981226\n",
            "Successfully built fire\n",
            "Installing collected packages: fire, medmnist\n",
            "Successfully installed fire-0.4.0 medmnist-2.1.0\n"
          ]
        }
      ]
    },
    {
      "cell_type": "markdown",
      "source": [
        "# Q2) Briefly explain the dataset in your notebook (based on image modality, classes in dataset and their significance) "
      ],
      "metadata": {
        "id": "1DwC2fdQ4cVf"
      }
    },
    {
      "cell_type": "markdown",
      "source": [
        "Breast MNIST Dataset"
      ],
      "metadata": {
        "id": "cV97ICDl7AVS"
      }
    },
    {
      "cell_type": "markdown",
      "source": [
        " \n",
        "\n",
        "*   The data collected includes breast ultrasound images among women in ages between 25 and 75 years old. \n",
        "\n",
        "*    This data was collected in 2018 and the number of patients is 600 female patients. The dataset consists of 780 images with an average image size of 500 × 500 pixels. The images are in grayscale PNG format.\n",
        "\n",
        "*   The images are categorized into three classes, which are normal, benign, and malignant.\n",
        "*   Significance : As we use low-resolution images, we simplify the task into binary classification by combining normal and benign as positive and classifying them against malignant as negative.\n",
        "\n",
        "\n",
        "\n",
        "   \n"
      ],
      "metadata": {
        "id": "GdZ9_uhh5M9h"
      }
    },
    {
      "cell_type": "markdown",
      "source": [
        "# Q3) Download the dataset and load it as dataloaders for training and testing model "
      ],
      "metadata": {
        "id": "cZTXXsER9Z-S"
      }
    },
    {
      "cell_type": "code",
      "source": [
        "from tqdm import tqdm # to make progress bars\n",
        "import numpy as np # Numpy is imported to perform array operations and also for Linear Algebra.\n",
        "import torch # Pytorch and related modules are imported for implementing neural networks and related tasks\n",
        "import torch.nn as nn # Pytorch and related modules are imported for implementing neural networks and related tasks\n",
        "import torch.optim as optim # Pytorch and related modules are imported for implementing neural networks and related tasks\n",
        "import torch.utils.data as data # Pytorch and related modules are imported for implementing neural networks and related tasks\n",
        "import torchvision.transforms as transforms # Pytorch and related modules are imported for implementing neural networks and related tasks\n",
        "from matplotlib import pyplot as plt #Matplotlib is imported for data visualisation, plotting graphs, etc.\n",
        "\n",
        "import medmnist\n",
        "from medmnist import INFO, Evaluator"
      ],
      "metadata": {
        "id": "-MTRhVzT5HnA"
      },
      "execution_count": 3,
      "outputs": []
    },
    {
      "cell_type": "code",
      "source": [
        "data_flag = \"breastmnist\"\n",
        "download = True\n",
        "data_flag = data_flag.lower()\n",
        "\n",
        "# Tune hyperparameters for training model like epochs, batch size and learning rate\n",
        "NUM_EPOCHS = 15 #the number of passes of the entire training dataset the machine learning algorithm has completed.\n",
        "BATCH_SIZE = 128 #the number of training examples utilized in one iteration\n",
        "lr = 0.003 #a tuning parameter in an optimization algorithm that determines the step size at each iteration while moving toward a minimum of a loss function.\n",
        "\n",
        "info = INFO[data_flag]\n",
        "task = info['task']\n",
        "\n",
        "DataClass = getattr(medmnist, info['python_class'])"
      ],
      "metadata": {
        "id": "nJpT4P8pS0nd"
      },
      "execution_count": 4,
      "outputs": []
    },
    {
      "cell_type": "code",
      "source": [
        "# preprocessing\n",
        "data_transform = transforms.Compose([\n",
        "    transforms.ToTensor(), #Converts the data to Tensor so that we can perform further operations\n",
        "    transforms.Normalize(mean=[.5], std=[.5]) #normalises the data so that it is regularised\n",
        "])\n",
        "\n",
        "# load the data\n",
        "train_dataset = DataClass(split='train', transform=data_transform, download=download) #data is split into train and test\n",
        "test_dataset = DataClass(split='test', transform=data_transform, download=download)\n",
        "\n",
        "pil_dataset = DataClass(split='train', download=download)\n",
        "\n",
        "# encapsulate data into dataloader form\n",
        "train_loader = data.DataLoader(dataset=train_dataset, batch_size=BATCH_SIZE, shuffle=True)\n",
        "train_loader_at_eval = data.DataLoader(dataset=train_dataset, batch_size=2*BATCH_SIZE, shuffle=False)\n",
        "test_loader = data.DataLoader(dataset=test_dataset, batch_size=2*BATCH_SIZE, shuffle=False)"
      ],
      "metadata": {
        "colab": {
          "base_uri": "https://localhost:8080/",
          "height": 103,
          "referenced_widgets": [
            "74342c00ee6540bd962222086badbec9",
            "158374368e3143828fa4550d58ea9903",
            "aa0ee22ad08f45088d2fc5a5a7952796",
            "d54aaa9634cf4f1ebf06bc0f95992499",
            "05920540e57b46c492e3fc5cafb1db7e",
            "3035e9def0ac4dc18a9e3f69c1d21efd",
            "a8f7c4297cc0447db3f3bfd2af9eb5f9",
            "75695d278adc46fca79d9d2b9ab0ce1b",
            "41d2912ad4ea426d971ca34f95f7ff9a",
            "d32ad6afa3394beabadfdf4a898c681e",
            "c0d548a3e2064ddbaec781f69395b9c4"
          ]
        },
        "id": "OtsQ8gMyTZM4",
        "outputId": "60f28b96-6d2d-40a5-ce83-9c628fa70deb"
      },
      "execution_count": 5,
      "outputs": [
        {
          "output_type": "stream",
          "name": "stdout",
          "text": [
            "Downloading https://zenodo.org/record/6496656/files/breastmnist.npz?download=1 to /root/.medmnist/breastmnist.npz\n"
          ]
        },
        {
          "output_type": "display_data",
          "data": {
            "text/plain": [
              "  0%|          | 0/559580 [00:00<?, ?it/s]"
            ],
            "application/vnd.jupyter.widget-view+json": {
              "version_major": 2,
              "version_minor": 0,
              "model_id": "74342c00ee6540bd962222086badbec9"
            }
          },
          "metadata": {}
        },
        {
          "output_type": "stream",
          "name": "stdout",
          "text": [
            "Using downloaded and verified file: /root/.medmnist/breastmnist.npz\n",
            "Using downloaded and verified file: /root/.medmnist/breastmnist.npz\n"
          ]
        }
      ]
    },
    {
      "cell_type": "markdown",
      "source": [
        "#Q4) Print number of classes in dataset "
      ],
      "metadata": {
        "id": "ifb3bdzqepFa"
      }
    },
    {
      "cell_type": "code",
      "source": [
        "train_dataset.labels"
      ],
      "metadata": {
        "collapsed": true,
        "colab": {
          "base_uri": "https://localhost:8080/"
        },
        "id": "NWIih7LwX5Xm",
        "outputId": "f043d73d-5e6a-40c9-fe26-26e250f809e4"
      },
      "execution_count": 6,
      "outputs": [
        {
          "output_type": "execute_result",
          "data": {
            "text/plain": [
              "array([[1],\n",
              "       [1],\n",
              "       [1],\n",
              "       [1],\n",
              "       [0],\n",
              "       [1],\n",
              "       [1],\n",
              "       [1],\n",
              "       [0],\n",
              "       [1],\n",
              "       [1],\n",
              "       [1],\n",
              "       [0],\n",
              "       [1],\n",
              "       [0],\n",
              "       [1],\n",
              "       [1],\n",
              "       [1],\n",
              "       [1],\n",
              "       [1],\n",
              "       [1],\n",
              "       [1],\n",
              "       [0],\n",
              "       [1],\n",
              "       [1],\n",
              "       [1],\n",
              "       [1],\n",
              "       [0],\n",
              "       [1],\n",
              "       [1],\n",
              "       [0],\n",
              "       [0],\n",
              "       [0],\n",
              "       [1],\n",
              "       [1],\n",
              "       [1],\n",
              "       [1],\n",
              "       [1],\n",
              "       [1],\n",
              "       [1],\n",
              "       [1],\n",
              "       [1],\n",
              "       [1],\n",
              "       [1],\n",
              "       [1],\n",
              "       [0],\n",
              "       [1],\n",
              "       [1],\n",
              "       [1],\n",
              "       [0],\n",
              "       [1],\n",
              "       [0],\n",
              "       [0],\n",
              "       [1],\n",
              "       [1],\n",
              "       [0],\n",
              "       [1],\n",
              "       [1],\n",
              "       [0],\n",
              "       [1],\n",
              "       [1],\n",
              "       [1],\n",
              "       [1],\n",
              "       [1],\n",
              "       [0],\n",
              "       [1],\n",
              "       [0],\n",
              "       [1],\n",
              "       [1],\n",
              "       [1],\n",
              "       [1],\n",
              "       [1],\n",
              "       [0],\n",
              "       [1],\n",
              "       [0],\n",
              "       [1],\n",
              "       [1],\n",
              "       [1],\n",
              "       [1],\n",
              "       [1],\n",
              "       [1],\n",
              "       [1],\n",
              "       [1],\n",
              "       [1],\n",
              "       [1],\n",
              "       [0],\n",
              "       [1],\n",
              "       [1],\n",
              "       [1],\n",
              "       [1],\n",
              "       [1],\n",
              "       [1],\n",
              "       [1],\n",
              "       [1],\n",
              "       [1],\n",
              "       [0],\n",
              "       [1],\n",
              "       [1],\n",
              "       [0],\n",
              "       [0],\n",
              "       [1],\n",
              "       [1],\n",
              "       [1],\n",
              "       [0],\n",
              "       [1],\n",
              "       [1],\n",
              "       [1],\n",
              "       [1],\n",
              "       [1],\n",
              "       [1],\n",
              "       [1],\n",
              "       [1],\n",
              "       [1],\n",
              "       [1],\n",
              "       [1],\n",
              "       [0],\n",
              "       [1],\n",
              "       [1],\n",
              "       [0],\n",
              "       [1],\n",
              "       [1],\n",
              "       [1],\n",
              "       [0],\n",
              "       [1],\n",
              "       [1],\n",
              "       [1],\n",
              "       [1],\n",
              "       [1],\n",
              "       [1],\n",
              "       [1],\n",
              "       [1],\n",
              "       [1],\n",
              "       [0],\n",
              "       [1],\n",
              "       [1],\n",
              "       [1],\n",
              "       [1],\n",
              "       [1],\n",
              "       [0],\n",
              "       [0],\n",
              "       [1],\n",
              "       [1],\n",
              "       [0],\n",
              "       [1],\n",
              "       [0],\n",
              "       [1],\n",
              "       [1],\n",
              "       [1],\n",
              "       [1],\n",
              "       [0],\n",
              "       [1],\n",
              "       [1],\n",
              "       [1],\n",
              "       [1],\n",
              "       [1],\n",
              "       [1],\n",
              "       [0],\n",
              "       [1],\n",
              "       [0],\n",
              "       [1],\n",
              "       [1],\n",
              "       [1],\n",
              "       [1],\n",
              "       [0],\n",
              "       [0],\n",
              "       [1],\n",
              "       [0],\n",
              "       [1],\n",
              "       [1],\n",
              "       [1],\n",
              "       [0],\n",
              "       [1],\n",
              "       [1],\n",
              "       [0],\n",
              "       [0],\n",
              "       [1],\n",
              "       [1],\n",
              "       [1],\n",
              "       [1],\n",
              "       [1],\n",
              "       [1],\n",
              "       [1],\n",
              "       [0],\n",
              "       [0],\n",
              "       [1],\n",
              "       [0],\n",
              "       [1],\n",
              "       [1],\n",
              "       [1],\n",
              "       [1],\n",
              "       [0],\n",
              "       [1],\n",
              "       [0],\n",
              "       [1],\n",
              "       [1],\n",
              "       [1],\n",
              "       [0],\n",
              "       [1],\n",
              "       [1],\n",
              "       [1],\n",
              "       [0],\n",
              "       [1],\n",
              "       [1],\n",
              "       [0],\n",
              "       [0],\n",
              "       [1],\n",
              "       [1],\n",
              "       [1],\n",
              "       [0],\n",
              "       [1],\n",
              "       [1],\n",
              "       [1],\n",
              "       [0],\n",
              "       [1],\n",
              "       [1],\n",
              "       [0],\n",
              "       [1],\n",
              "       [1],\n",
              "       [1],\n",
              "       [1],\n",
              "       [0],\n",
              "       [1],\n",
              "       [1],\n",
              "       [0],\n",
              "       [0],\n",
              "       [1],\n",
              "       [0],\n",
              "       [1],\n",
              "       [0],\n",
              "       [1],\n",
              "       [0],\n",
              "       [0],\n",
              "       [0],\n",
              "       [0],\n",
              "       [1],\n",
              "       [1],\n",
              "       [1],\n",
              "       [1],\n",
              "       [1],\n",
              "       [1],\n",
              "       [1],\n",
              "       [1],\n",
              "       [0],\n",
              "       [0],\n",
              "       [1],\n",
              "       [1],\n",
              "       [1],\n",
              "       [1],\n",
              "       [1],\n",
              "       [1],\n",
              "       [1],\n",
              "       [1],\n",
              "       [1],\n",
              "       [1],\n",
              "       [1],\n",
              "       [1],\n",
              "       [0],\n",
              "       [0],\n",
              "       [1],\n",
              "       [0],\n",
              "       [0],\n",
              "       [0],\n",
              "       [1],\n",
              "       [1],\n",
              "       [1],\n",
              "       [1],\n",
              "       [1],\n",
              "       [1],\n",
              "       [0],\n",
              "       [1],\n",
              "       [1],\n",
              "       [1],\n",
              "       [1],\n",
              "       [1],\n",
              "       [1],\n",
              "       [0],\n",
              "       [1],\n",
              "       [1],\n",
              "       [1],\n",
              "       [1],\n",
              "       [1],\n",
              "       [0],\n",
              "       [1],\n",
              "       [1],\n",
              "       [1],\n",
              "       [1],\n",
              "       [1],\n",
              "       [0],\n",
              "       [0],\n",
              "       [0],\n",
              "       [1],\n",
              "       [1],\n",
              "       [1],\n",
              "       [1],\n",
              "       [1],\n",
              "       [1],\n",
              "       [1],\n",
              "       [0],\n",
              "       [1],\n",
              "       [1],\n",
              "       [1],\n",
              "       [0],\n",
              "       [1],\n",
              "       [0],\n",
              "       [1],\n",
              "       [1],\n",
              "       [1],\n",
              "       [0],\n",
              "       [0],\n",
              "       [1],\n",
              "       [0],\n",
              "       [1],\n",
              "       [0],\n",
              "       [1],\n",
              "       [0],\n",
              "       [1],\n",
              "       [0],\n",
              "       [0],\n",
              "       [1],\n",
              "       [1],\n",
              "       [1],\n",
              "       [1],\n",
              "       [1],\n",
              "       [1],\n",
              "       [0],\n",
              "       [1],\n",
              "       [1],\n",
              "       [1],\n",
              "       [0],\n",
              "       [1],\n",
              "       [0],\n",
              "       [1],\n",
              "       [0],\n",
              "       [0],\n",
              "       [1],\n",
              "       [1],\n",
              "       [1],\n",
              "       [1],\n",
              "       [1],\n",
              "       [1],\n",
              "       [0],\n",
              "       [1],\n",
              "       [0],\n",
              "       [1],\n",
              "       [0],\n",
              "       [0],\n",
              "       [0],\n",
              "       [1],\n",
              "       [1],\n",
              "       [1],\n",
              "       [1],\n",
              "       [1],\n",
              "       [1],\n",
              "       [1],\n",
              "       [1],\n",
              "       [1],\n",
              "       [1],\n",
              "       [0],\n",
              "       [1],\n",
              "       [0],\n",
              "       [1],\n",
              "       [1],\n",
              "       [1],\n",
              "       [1],\n",
              "       [0],\n",
              "       [0],\n",
              "       [0],\n",
              "       [1],\n",
              "       [1],\n",
              "       [0],\n",
              "       [0],\n",
              "       [0],\n",
              "       [0],\n",
              "       [1],\n",
              "       [1],\n",
              "       [0],\n",
              "       [1],\n",
              "       [0],\n",
              "       [0],\n",
              "       [1],\n",
              "       [1],\n",
              "       [0],\n",
              "       [1],\n",
              "       [0],\n",
              "       [1],\n",
              "       [1],\n",
              "       [0],\n",
              "       [1],\n",
              "       [1],\n",
              "       [1],\n",
              "       [1],\n",
              "       [1],\n",
              "       [1],\n",
              "       [1],\n",
              "       [1],\n",
              "       [1],\n",
              "       [1],\n",
              "       [1],\n",
              "       [1],\n",
              "       [1],\n",
              "       [1],\n",
              "       [1],\n",
              "       [1],\n",
              "       [0],\n",
              "       [1],\n",
              "       [1],\n",
              "       [1],\n",
              "       [1],\n",
              "       [1],\n",
              "       [0],\n",
              "       [1],\n",
              "       [0],\n",
              "       [1],\n",
              "       [1],\n",
              "       [0],\n",
              "       [1],\n",
              "       [1],\n",
              "       [0],\n",
              "       [1],\n",
              "       [1],\n",
              "       [0],\n",
              "       [1],\n",
              "       [1],\n",
              "       [0],\n",
              "       [0],\n",
              "       [1],\n",
              "       [1],\n",
              "       [1],\n",
              "       [1],\n",
              "       [1],\n",
              "       [0],\n",
              "       [1],\n",
              "       [1],\n",
              "       [1],\n",
              "       [1],\n",
              "       [1],\n",
              "       [0],\n",
              "       [1],\n",
              "       [1],\n",
              "       [0],\n",
              "       [1],\n",
              "       [1],\n",
              "       [1],\n",
              "       [0],\n",
              "       [1],\n",
              "       [1],\n",
              "       [0],\n",
              "       [0],\n",
              "       [1],\n",
              "       [1],\n",
              "       [1],\n",
              "       [1],\n",
              "       [1],\n",
              "       [1],\n",
              "       [0],\n",
              "       [1],\n",
              "       [1],\n",
              "       [1],\n",
              "       [1],\n",
              "       [1],\n",
              "       [1],\n",
              "       [1],\n",
              "       [1],\n",
              "       [1],\n",
              "       [0],\n",
              "       [1],\n",
              "       [1],\n",
              "       [0],\n",
              "       [1],\n",
              "       [1],\n",
              "       [1],\n",
              "       [0],\n",
              "       [0],\n",
              "       [1],\n",
              "       [1],\n",
              "       [0],\n",
              "       [1],\n",
              "       [1],\n",
              "       [0],\n",
              "       [1],\n",
              "       [1],\n",
              "       [1],\n",
              "       [1],\n",
              "       [0],\n",
              "       [1],\n",
              "       [1],\n",
              "       [1],\n",
              "       [1],\n",
              "       [1],\n",
              "       [0],\n",
              "       [0],\n",
              "       [1],\n",
              "       [0],\n",
              "       [1],\n",
              "       [1],\n",
              "       [1],\n",
              "       [0],\n",
              "       [1],\n",
              "       [1],\n",
              "       [1],\n",
              "       [1],\n",
              "       [1],\n",
              "       [0],\n",
              "       [0],\n",
              "       [1],\n",
              "       [1],\n",
              "       [1],\n",
              "       [0],\n",
              "       [1],\n",
              "       [1],\n",
              "       [1],\n",
              "       [1],\n",
              "       [1],\n",
              "       [1],\n",
              "       [1],\n",
              "       [1],\n",
              "       [0],\n",
              "       [1],\n",
              "       [0],\n",
              "       [1],\n",
              "       [1],\n",
              "       [0],\n",
              "       [1],\n",
              "       [1],\n",
              "       [1],\n",
              "       [1],\n",
              "       [1],\n",
              "       [0],\n",
              "       [1],\n",
              "       [1],\n",
              "       [1],\n",
              "       [1],\n",
              "       [1],\n",
              "       [1],\n",
              "       [0],\n",
              "       [1],\n",
              "       [0],\n",
              "       [0],\n",
              "       [1],\n",
              "       [1],\n",
              "       [1],\n",
              "       [1],\n",
              "       [1],\n",
              "       [1],\n",
              "       [1],\n",
              "       [0]], dtype=uint8)"
            ]
          },
          "metadata": {},
          "execution_count": 6
        }
      ]
    },
    {
      "cell_type": "code",
      "source": [
        "#Or we could do this as well instead of train_dataset.labels. But since this is a tedious way to do it I used above method.\n",
        "#arr = [0]\n",
        "#for i in range (545):\n",
        "#  arr.append(train_dataset[i][1])\n",
        "#arr"
      ],
      "metadata": {
        "collapsed": true,
        "id": "YA8RTwDPVDSb"
      },
      "execution_count": 7,
      "outputs": []
    },
    {
      "cell_type": "code",
      "source": [
        "a=train_dataset.labels\n",
        "np.unique(a) "
      ],
      "metadata": {
        "colab": {
          "base_uri": "https://localhost:8080/"
        },
        "id": "DGUakxS7fCik",
        "outputId": "816c97a1-7402-4258-e41d-9e1c65322618"
      },
      "execution_count": 8,
      "outputs": [
        {
          "output_type": "execute_result",
          "data": {
            "text/plain": [
              "array([0, 1], dtype=uint8)"
            ]
          },
          "metadata": {},
          "execution_count": 8
        }
      ]
    },
    {
      "cell_type": "code",
      "source": [
        "len(np.unique(a))# So we can conclude that there are 2 classes in the dataset"
      ],
      "metadata": {
        "colab": {
          "base_uri": "https://localhost:8080/"
        },
        "id": "mkdRse6rh_07",
        "outputId": "e8b3f3ee-c0ad-452d-9e77-f545153a90ad"
      },
      "execution_count": 9,
      "outputs": [
        {
          "output_type": "execute_result",
          "data": {
            "text/plain": [
              "2"
            ]
          },
          "metadata": {},
          "execution_count": 9
        }
      ]
    },
    {
      "cell_type": "code",
      "source": [
        "print(\"Therefore, Number of Classes in dataset is \"+ str(len(np.unique(a))))"
      ],
      "metadata": {
        "colab": {
          "base_uri": "https://localhost:8080/"
        },
        "id": "Pg4nDcjUiDxR",
        "outputId": "93819cb2-80a9-48ce-e70b-c2154e541d22"
      },
      "execution_count": 10,
      "outputs": [
        {
          "output_type": "stream",
          "name": "stdout",
          "text": [
            "Therefore, Number of Classes in dataset is 2\n"
          ]
        }
      ]
    },
    {
      "cell_type": "markdown",
      "source": [
        "I have written the below code to prove that there are 2 classes as we found above"
      ],
      "metadata": {
        "id": "k05g2o8biYnb"
      }
    },
    {
      "cell_type": "code",
      "source": [
        "train_dataset.info[\"label\"]"
      ],
      "metadata": {
        "colab": {
          "base_uri": "https://localhost:8080/"
        },
        "id": "jjhmpHH3nG9k",
        "outputId": "e129619f-d14c-4adf-c7f4-6527bbb4ccfe"
      },
      "execution_count": 11,
      "outputs": [
        {
          "output_type": "execute_result",
          "data": {
            "text/plain": [
              "{'0': 'malignant', '1': 'normal, benign'}"
            ]
          },
          "metadata": {},
          "execution_count": 11
        }
      ]
    },
    {
      "cell_type": "code",
      "source": [
        "train_dataset.info"
      ],
      "metadata": {
        "colab": {
          "base_uri": "https://localhost:8080/"
        },
        "id": "NZGmfcOVgTpO",
        "outputId": "7ae7a6a3-dc00-4098-8c6d-d5533c714ba6"
      },
      "execution_count": 12,
      "outputs": [
        {
          "output_type": "execute_result",
          "data": {
            "text/plain": [
              "{'python_class': 'BreastMNIST',\n",
              " 'description': 'The BreastMNIST is based on a dataset of 780 breast ultrasound images. It is categorized into 3 classes: normal, benign, and malignant. As we use low-resolution images, we simplify the task into binary classification by combining normal and benign as positive and classifying them against malignant as negative. We split the source dataset with a ratio of 7:1:2 into training, validation and test set. The source images of 1×500×500 are resized into 1×28×28.',\n",
              " 'url': 'https://zenodo.org/record/6496656/files/breastmnist.npz?download=1',\n",
              " 'MD5': '750601b1f35ba3300ea97c75c52ff8f6',\n",
              " 'task': 'binary-class',\n",
              " 'label': {'0': 'malignant', '1': 'normal, benign'},\n",
              " 'n_channels': 1,\n",
              " 'n_samples': {'train': 546, 'val': 78, 'test': 156},\n",
              " 'license': 'CC BY 4.0'}"
            ]
          },
          "metadata": {},
          "execution_count": 12
        }
      ]
    },
    {
      "cell_type": "markdown",
      "source": [
        "# Q5) Print number of channels in image"
      ],
      "metadata": {
        "id": "y6QmeY70IInx"
      }
    },
    {
      "cell_type": "code",
      "source": [
        "train_dataset[0][0].shape[0] #number of channels means the number of layers eg: for grayscale it is 1 and for RGB it is 3"
      ],
      "metadata": {
        "colab": {
          "base_uri": "https://localhost:8080/"
        },
        "id": "5ed8OKx7eg4C",
        "outputId": "156b2009-7d48-4ad6-b871-c0120fb64cf4"
      },
      "execution_count": 13,
      "outputs": [
        {
          "output_type": "execute_result",
          "data": {
            "text/plain": [
              "1"
            ]
          },
          "metadata": {},
          "execution_count": 13
        }
      ]
    },
    {
      "cell_type": "code",
      "source": [
        "print(\"Therefore, Number of channels in image is \"+ str(train_dataset[0][0].shape[0]))"
      ],
      "metadata": {
        "colab": {
          "base_uri": "https://localhost:8080/"
        },
        "id": "d-PmFuhiIhj5",
        "outputId": "2483730b-684a-4b26-df06-22e3e60d16c6"
      },
      "execution_count": 14,
      "outputs": [
        {
          "output_type": "stream",
          "name": "stdout",
          "text": [
            "Therefore, Number of channels in image is 1\n"
          ]
        }
      ]
    },
    {
      "cell_type": "markdown",
      "source": [
        "# Q6) Display atleast 1 image from each class"
      ],
      "metadata": {
        "id": "NxKSHQDtNlUr"
      }
    },
    {
      "cell_type": "code",
      "source": [
        "print(f'Following is image from class {train_dataset[0][1][0]}') # Since I had seen in the labels that image with index 0 had label 0, so I used train_dataset[0][1][0].\n",
        "\n",
        "plt.imshow(train_dataset[0][0].reshape((28, 28)), cmap='gray')\n",
        "plt.show()"
      ],
      "metadata": {
        "colab": {
          "base_uri": "https://localhost:8080/",
          "height": 283
        },
        "id": "j6xZNnlQNktG",
        "outputId": "814cc389-1399-40b3-928a-b1ed1cf7ed75"
      },
      "execution_count": 15,
      "outputs": [
        {
          "output_type": "stream",
          "name": "stdout",
          "text": [
            "Following is image from class 1\n"
          ]
        },
        {
          "output_type": "display_data",
          "data": {
            "text/plain": [
              "<Figure size 432x288 with 1 Axes>"
            ],
            "image/png": "[encoded data removed]"
          },
          "metadata": {
            "needs_background": "light"
          }
        }
      ]
    },
    {
      "cell_type": "code",
      "source": [
        "print(f'Following is image from class {train_dataset[1][1][0]}') # Since I had seen in the labels that image with index 1 had label 1, so I used train_dataset[1][1][0].\n",
        "\n",
        "plt.imshow(train_dataset[1][0].reshape((28, 28)), cmap='gray')\n",
        "plt.show()"
      ],
      "metadata": {
        "colab": {
          "base_uri": "https://localhost:8080/",
          "height": 283
        },
        "id": "mhC1v6rKfCN1",
        "outputId": "c2df4a5d-024b-4e97-d760-bdcf9b13e107"
      },
      "execution_count": 16,
      "outputs": [
        {
          "output_type": "stream",
          "name": "stdout",
          "text": [
            "Following is image from class 1\n"
          ]
        },
        {
          "output_type": "display_data",
          "data": {
            "text/plain": [
              "<Figure size 432x288 with 1 Axes>"
            ],
            "image/png": "[encoded data removed]"
          },
          "metadata": {
            "needs_background": "light"
          }
        }
      ]
    },
    {
      "cell_type": "code",
      "source": [
        "print(f'Following is image from class {train_dataset[4][1][0]}') # Since I had seen in the labels, image with index 4 had label 0.\n",
        "\n",
        "plt.imshow(train_dataset[4][0].reshape((28, 28)), cmap='gray')\n",
        "plt.show()"
      ],
      "metadata": {
        "colab": {
          "base_uri": "https://localhost:8080/",
          "height": 283
        },
        "id": "RCRAmBsefXN2",
        "outputId": "b83eef18-4655-411e-ff71-37dcdff9a748"
      },
      "execution_count": 17,
      "outputs": [
        {
          "output_type": "stream",
          "name": "stdout",
          "text": [
            "Following is image from class 0\n"
          ]
        },
        {
          "output_type": "display_data",
          "data": {
            "text/plain": [
              "<Figure size 432x288 with 1 Axes>"
            ],
            "image/png": "[encoded data removed]"
          },
          "metadata": {
            "needs_background": "light"
          }
        }
      ]
    },
    {
      "cell_type": "code",
      "source": [
        "print(f'Following is image from class {train_dataset[12][1][0]}') # Since I had seen in the labels, image with index 12 had label 0.\n",
        "\n",
        "plt.imshow(train_dataset[12][0].reshape((28, 28)), cmap='gray')\n",
        "plt.show()"
      ],
      "metadata": {
        "colab": {
          "base_uri": "https://localhost:8080/",
          "height": 283
        },
        "id": "VpwLWKOMYQ7J",
        "outputId": "360eefc2-74c0-4733-cc92-750becdf2d17"
      },
      "execution_count": 18,
      "outputs": [
        {
          "output_type": "stream",
          "name": "stdout",
          "text": [
            "Following is image from class 0\n"
          ]
        },
        {
          "output_type": "display_data",
          "data": {
            "text/plain": [
              "<Figure size 432x288 with 1 Axes>"
            ],
            "image/png": "[encoded data removed]"
          },
          "metadata": {
            "needs_background": "light"
          }
        }
      ]
    },
    {
      "cell_type": "code",
      "source": [
        "#for i in range (545):\n",
        "#  print(f'Following is image from class {train_dataset[i][1][0]}') \n",
        "#\n",
        "#  plt.imshow(train_dataset[i][0].reshape((28, 28)), cmap='gray')\n",
        "#  plt.show()\n",
        "# I ran this code just for curiosity to see how all the normal and malignant tumours are!"
      ],
      "metadata": {
        "collapsed": true,
        "id": "U2Q9Sj3yfl7g"
      },
      "execution_count": 19,
      "outputs": []
    },
    {
      "cell_type": "markdown",
      "source": [
        "# Q7) Print number of images in each class in selected dataset"
      ],
      "metadata": {
        "id": "wWKfMCFcIWSh"
      }
    },
    {
      "cell_type": "code",
      "source": [
        "len(a) # len(a) will give total number of images"
      ],
      "metadata": {
        "id": "zX-bnoJOo1OZ",
        "outputId": "880ebd26-649e-413f-ea86-03c0b7e55e9f",
        "colab": {
          "base_uri": "https://localhost:8080/"
        }
      },
      "execution_count": 20,
      "outputs": [
        {
          "output_type": "execute_result",
          "data": {
            "text/plain": [
              "546"
            ]
          },
          "metadata": {},
          "execution_count": 20
        }
      ]
    },
    {
      "cell_type": "code",
      "source": [
        "np.sum(a) # np.sum(a) will give the number of images labelled '1'"
      ],
      "metadata": {
        "colab": {
          "base_uri": "https://localhost:8080/"
        },
        "id": "jJzCEXEmorpp",
        "outputId": "43caeb6f-7bad-44ad-8160-6ffefe316edf"
      },
      "execution_count": 21,
      "outputs": [
        {
          "output_type": "execute_result",
          "data": {
            "text/plain": [
              "399"
            ]
          },
          "metadata": {},
          "execution_count": 21
        }
      ]
    },
    {
      "cell_type": "code",
      "source": [
        "len(a)-np.sum(a) # len(a)-np.sum(a) will give the number of images labelled '0'"
      ],
      "metadata": {
        "colab": {
          "base_uri": "https://localhost:8080/"
        },
        "id": "Zlz3dyiWKqjS",
        "outputId": "b52f48ad-ba99-469d-b1d5-2db4c1bf90a3"
      },
      "execution_count": 22,
      "outputs": [
        {
          "output_type": "execute_result",
          "data": {
            "text/plain": [
              "147.0"
            ]
          },
          "metadata": {},
          "execution_count": 22
        }
      ]
    },
    {
      "cell_type": "code",
      "source": [
        "print(\"Therefore, number of images in class '0' is \"+ str(int(len(a)-np.sum(a))) + \" and number of images in class '1' is \" + str(np.sum(a)))"
      ],
      "metadata": {
        "colab": {
          "base_uri": "https://localhost:8080/"
        },
        "id": "f7Ua7XGjJWbO",
        "outputId": "5aa40033-67dd-4ed6-b4fc-96b6f3d5c8f5"
      },
      "execution_count": 23,
      "outputs": [
        {
          "output_type": "stream",
          "name": "stdout",
          "text": [
            "Therefore, number of images in class '0' is 147 and number of images in class '1' is 399\n"
          ]
        }
      ]
    },
    {
      "cell_type": "markdown",
      "source": [
        "# Q8) Is the dataset balanced ? Comment on what might be possible reasons for imbalance in dataset ? "
      ],
      "metadata": {
        "id": "sC0ScnGaKOkJ"
      }
    },
    {
      "cell_type": "markdown",
      "source": [
        "No, the dataset is not balanced as we get a 'normal' to 'malignant' ratio of approx 2.71 : 1. "
      ],
      "metadata": {
        "id": "hJz7XsfQK1VZ"
      }
    },
    {
      "cell_type": "markdown",
      "source": [
        "The possible reasons for imbalance in the dataset is as follows:\n",
        "\n",
        "\n",
        "1) Generally, ratio of healthy people to diseased people is always imbalanced\n",
        "\n",
        "\n",
        "2) Not all the tumours are malignant. Very few develop into Malignant\n"
      ],
      "metadata": {
        "id": "ZAWjOdVWLYaa"
      }
    },
    {
      "cell_type": "markdown",
      "source": [
        "# Q9) Use any CNN model (e.g. ResNet, etc) which can be used for classification and train it on selected dataset. "
      ],
      "metadata": {
        "id": "2PX9Wc81M5fx"
      }
    },
    {
      "cell_type": "code",
      "source": [
        "n_classes=2"
      ],
      "metadata": {
        "id": "d33Y4At9hE_o"
      },
      "execution_count": 24,
      "outputs": []
    },
    {
      "cell_type": "code",
      "source": [
        "n_channels=1"
      ],
      "metadata": {
        "id": "20mfQ1OahRm6"
      },
      "execution_count": 25,
      "outputs": []
    },
    {
      "cell_type": "code",
      "source": [
        "# define a simple CNN model\n",
        "\n",
        "class Net(nn.Module): \n",
        "    def __init__(self, in_channels, num_classes): # A constructor is defined. A constructor gets executed always whenever the function is called.\n",
        "        super(Net, self).__init__()\n",
        "\n",
        "        self.layer1 = nn.Sequential(                                                     # nn.Sequential creates a new layer of Neural Networks\n",
        "            nn.Conv2d(in_channels, 16, kernel_size=3),                                   # In PyTorch, we can create a convolutional layer using nn.Conv2d.\n",
        "            nn.BatchNorm2d(16), #normalizes the activations of the network between       # in_channels => number of channels in the input (lower layer)\n",
        "       #layers in batches so that the batches have a mean of 0 and a variance of 1       # out_channels => number of channels in the output (next layer)\n",
        "            nn.ReLU()) #The activation function used is Rectified Linear Unit(ReLU)      # kernel_size => size of the kernel field\n",
        "                                                                                          \n",
        "\n",
        "        self.layer2 = nn.Sequential(                # nn.Sequential creates a new layer of Neural Networks\n",
        "            nn.Conv2d(16, 16, kernel_size=3),       # In PyTorch, we can create a convolutional layer using nn.Conv2d.\n",
        "            nn.BatchNorm2d(16),                     # in_channels => number of channels in the input (lower layer)\n",
        "            nn.ReLU(),                              # out_channels => number of channels in the output (next layer)\n",
        "            nn.MaxPool2d(kernel_size=2, stride=2))  # kernel_size => size of the kernel field\n",
        "            #Max pooling is a pooling operation that selects the maximum element from the region of the feature map covered by the filter.\n",
        "            #Stride is the number of pixels shifts over the input matrix.\n",
        "\n",
        "        self.layer3 = nn.Sequential(                # nn.Sequential creates a layer of Neural Networks\n",
        "            nn.Conv2d(16, 64, kernel_size=3),       # In PyTorch, we can create a convolutional layer using nn.Conv2d.\n",
        "            nn.BatchNorm2d(64),                     # normalizes the activations of the network\n",
        "            nn.ReLU())                              # The activation function used is Rectified Linear Unit(ReLU)\n",
        "        \n",
        "        self.layer4 = nn.Sequential(\n",
        "            nn.Conv2d(64, 64, kernel_size=3),       # We add multiple layers as each layer identifies a particular feature. Generally, we are not aware\n",
        "            nn.BatchNorm2d(64),                     # how it works exactly but initially edge detection takes place and then more finer details are detected\n",
        "            nn.ReLU())\n",
        "\n",
        "        self.layer5 = nn.Sequential(\n",
        "            nn.Conv2d(64, 64, kernel_size=3, padding=1), # same explanations as given above\n",
        "            nn.BatchNorm2d(64),\n",
        "            nn.ReLU(),\n",
        "            nn.MaxPool2d(kernel_size=2, stride=2))\n",
        "\n",
        "        self.fc = nn.Sequential(\n",
        "            nn.Linear(64 * 4 * 4, 128),       #nn.Linear(n,m) is a module that creates single layer feed forward network with n inputs and m output\n",
        "            nn.ReLU(),                        # same explanations as given above\n",
        "            nn.Linear(128, 128),              #We need a final Linear Layer since we want to assign a class label\n",
        "            nn.ReLU(),\n",
        "            nn.Linear(128, num_classes))\n",
        "        \n",
        "#Here we define the structure of the neural network. This implementation overrides the implementation of \"forward\" in the parent class nn.Module\n",
        "    def forward(self, x):\n",
        "        x = self.layer1(x) # We are adding layers \n",
        "        x = self.layer2(x) # step by step\n",
        "        x = self.layer3(x) # so it acts as a deep neural network\n",
        "        x = self.layer4(x) # as of now it is a very basic architecture\n",
        "        x = self.layer5(x) # but we can create more efficent and sophisticated architectures\n",
        "        x = x.view(x.size(0), -1) # This line of code flattens the tensor because the Linear layer only accepts a vector (1d array)\n",
        "        x = self.fc(x) # It is a fully connected layer. \n",
        "        return x\n",
        "\n",
        "model = Net(in_channels=n_channels, num_classes=n_classes)\n",
        "    \n",
        "# define loss function and optimizer\n",
        "if task == \"multi-label, binary-class\":\n",
        "    criterion = nn.BCEWithLogitsLoss()\n",
        "else:\n",
        "    criterion = nn.CrossEntropyLoss()\n",
        "    \n",
        "optimizer = optim.SGD(model.parameters(), lr=lr, momentum=0.9)"
      ],
      "metadata": {
        "id": "CERF31v5M1Wp"
      },
      "execution_count": 26,
      "outputs": []
    },
    {
      "cell_type": "code",
      "source": [
        "# train\n",
        "\n",
        "for epoch in range(NUM_EPOCHS):\n",
        "    train_correct = 0\n",
        "    train_total = 0\n",
        "    test_correct = 0\n",
        "    test_total = 0\n",
        "    \n",
        "    model.train()\n",
        "    for inputs, targets in tqdm(train_loader):\n",
        "        # forward + backward + optimize\n",
        "        optimizer.zero_grad()\n",
        "        outputs = model(inputs)\n",
        "        \n",
        "        if task == 'multi-label, binary-class':\n",
        "            targets = targets.to(torch.float32)\n",
        "            loss = criterion(outputs, targets)\n",
        "        else:\n",
        "          \n",
        "            targets = targets.squeeze().long()\n",
        "            loss = criterion(outputs, targets)\n",
        "        \n",
        "        loss.backward() # calculate gradients = backward pass (for back propagation).\n",
        "                        # please note that gradient computation cn happen only after the loss is specified.\n",
        "        optimizer.step()\n",
        " # We can find accuracy by the below method also but finally I have implemented the code written in the Inf-AI-Health-ML3-BloodMNIST.ipynb   \n",
        " #       pred = outputs.data.max(1, keepdim=True)[1] # The following lines of code are written to find the train accuracy.\n",
        " #       train_correct += pred.eq(targets.data.view_as(pred)).sum()\n",
        " #       train_total+=len(inputs)\n",
        " #   train_accuracy = train_correct/train_total\n",
        " #   print(train_accuracy)"
      ],
      "metadata": {
        "id": "eZN8MdWyl70E",
        "colab": {
          "base_uri": "https://localhost:8080/"
        },
        "outputId": "3101acee-11a5-45d6-e3f9-71903abd24ba"
      },
      "execution_count": 27,
      "outputs": [
        {
          "output_type": "stream",
          "name": "stderr",
          "text": [
            "100%|██████████| 5/5 [00:02<00:00,  2.15it/s]\n",
            "100%|██████████| 5/5 [00:02<00:00,  2.42it/s]\n",
            "100%|██████████| 5/5 [00:02<00:00,  2.37it/s]\n",
            "100%|██████████| 5/5 [00:02<00:00,  2.31it/s]\n",
            "100%|██████████| 5/5 [00:01<00:00,  2.78it/s]\n",
            "100%|██████████| 5/5 [00:02<00:00,  2.34it/s]\n",
            "100%|██████████| 5/5 [00:02<00:00,  2.43it/s]\n",
            "100%|██████████| 5/5 [00:02<00:00,  2.17it/s]\n",
            "100%|██████████| 5/5 [00:01<00:00,  2.87it/s]\n",
            "100%|██████████| 5/5 [00:01<00:00,  2.59it/s]\n",
            "100%|██████████| 5/5 [00:01<00:00,  3.60it/s]\n",
            "100%|██████████| 5/5 [00:00<00:00,  5.04it/s]\n",
            "100%|██████████| 5/5 [00:00<00:00,  5.02it/s]\n",
            "100%|██████████| 5/5 [00:00<00:00,  5.03it/s]\n",
            "100%|██████████| 5/5 [00:01<00:00,  4.96it/s]\n"
          ]
        }
      ]
    },
    {
      "cell_type": "code",
      "source": [
        "#for inputs, targets in tqdm(test_loader):\n",
        "#        outputs = model(inputs)\n",
        "#        pred = outputs.data.max(1, keepdim=True)[1]           # The following lines of code are written to find the train accuracy.\n",
        "#        test_correct += pred.eq(targets.data.view_as(pred)).sum()\n",
        "#        test_total+=len(inputs)\n",
        "#test_accuracy = test_correct/test_total\n",
        "#print(test_accuracy)"
      ],
      "metadata": {
        "id": "h2zIoVcqPTFz"
      },
      "execution_count": 28,
      "outputs": []
    },
    {
      "cell_type": "code",
      "source": [
        "# evaluation\n",
        "\n",
        "def test(split):\n",
        "    model.eval()\n",
        "    y_true = torch.tensor([])\n",
        "    y_score = torch.tensor([])\n",
        "    \n",
        "    data_loader = train_loader_at_eval if split == 'train' else test_loader\n",
        "\n",
        "    with torch.no_grad(): #No gradient computation since we only want to do forward propagation\n",
        "        for inputs, targets in data_loader:\n",
        "            outputs = model(inputs)\n",
        "\n",
        "            if task == 'multi-label, binary-class':\n",
        "                targets = targets.to(torch.float32)\n",
        "                outputs = outputs.softmax(dim=-1) #Softmax for classification. \n",
        "            else:\n",
        "                targets = targets.squeeze().long()\n",
        "                outputs = outputs.softmax(dim=-1)\n",
        "                targets = targets.float().resize_(len(targets), 1)\n",
        "\n",
        "            y_true = torch.cat((y_true, targets), 0)\n",
        "            y_score = torch.cat((y_score, outputs), 0)\n",
        "\n",
        "        y_true = y_true.numpy() # convert tensor to numpy\n",
        "        y_score = y_score.detach().numpy() \n",
        "        \n",
        "        evaluator = Evaluator(data_flag, split) #pre defined library to evaluate metrics is used\n",
        "        metrics = evaluator.evaluate(y_score) \n",
        "    \n",
        "        #auc or The area under a curve between two points is found out by doing a definite integral between the two points. \n",
        "        #To find the area under the curve y = f(x) between x = a & x = b, integrate y = f(x) between the limits of a and b. \n",
        "        print('%s  auc: %.3f  acc:%.3f' % (split, *metrics))\n",
        "\n",
        "        \n",
        "print('==> Evaluating ...')\n",
        "test('train')\n",
        "test('test')"
      ],
      "metadata": {
        "colab": {
          "base_uri": "https://localhost:8080/"
        },
        "id": "fEtRt6fmTmrB",
        "outputId": "a23466fc-0ab9-46e9-c1b9-0b0756915675"
      },
      "execution_count": 29,
      "outputs": [
        {
          "output_type": "stream",
          "name": "stdout",
          "text": [
            "==> Evaluating ...\n",
            "train  auc: 0.907  acc:0.842\n",
            "test  auc: 0.831  acc:0.782\n"
          ]
        }
      ]
    },
    {
      "cell_type": "markdown",
      "source": [
        "# Comment on train and test accuracy of the model\n"
      ],
      "metadata": {
        "id": "0MWjIR1JLWtM"
      }
    },
    {
      "cell_type": "markdown",
      "source": [
        "We can see that the train accuracy is 0.842 and the test accuracy is 0.782. I think it is good as it trains well on training data and also gives good accuracy in the test data. And since we used very basic CNN Architecture so it is good with respect to this aspect!\n",
        "(If you run the code again these values will change!)"
      ],
      "metadata": {
        "id": "YbGeVUAILftg"
      }
    },
    {
      "cell_type": "markdown",
      "source": [
        "# Try to find out per class test accuracy for model (Bonus Question)"
      ],
      "metadata": {
        "id": "6OS797-gMMjn"
      }
    },
    {
      "cell_type": "code",
      "source": [
        "class1_correct=0\n",
        "class2_correct=0\n",
        "class1_total=0\n",
        "class2_total=0\n",
        "for inputs, targets in tqdm(test_loader):\n",
        "        outputs = model(inputs)\n",
        "        pred = outputs.data.max(1, keepdim=True)[1]\n",
        "        correct = pred.eq(targets.data.view_as(pred))\n",
        "        for i in range(len(targets)):\n",
        "          if(targets[i]==0):\n",
        "            class1_total+=1\n",
        "            class1_correct+=correct[i]\n",
        "\n",
        "          else:\n",
        "            class2_total+=1\n",
        "            class2_correct+=correct[i]\n",
        "class1_accuracy = class1_correct/class1_total\n",
        "class2_accuracy = class2_correct/class2_total\n",
        "print(class1_accuracy, class2_accuracy)"
      ],
      "metadata": {
        "colab": {
          "base_uri": "https://localhost:8080/"
        },
        "id": "N8VlAueFr90H",
        "outputId": "7fe0c464-a9fa-4cca-eb34-8930ecbf70ae"
      },
      "execution_count": 30,
      "outputs": [
        {
          "output_type": "stream",
          "name": "stderr",
          "text": [
            "100%|██████████| 1/1 [00:00<00:00,  7.87it/s]"
          ]
        },
        {
          "output_type": "stream",
          "name": "stdout",
          "text": [
            "tensor([0.3333]) tensor([0.9474])\n"
          ]
        },
        {
          "output_type": "stream",
          "name": "stderr",
          "text": [
            "\n"
          ]
        }
      ]
    },
    {
      "cell_type": "markdown",
      "source": [
        "The per class test accuracy is as follows:\n",
        "\n",
        "\n",
        "1) For Malignant (Label '0') : 0.3333\n",
        "\n",
        "\n",
        "2) For Normal (Label '1') : 0.9474\n",
        "\n",
        "(If you run the code again these values will change!)"
      ],
      "metadata": {
        "id": "DdTUzRi2MRvJ"
      }
    },
    {
      "cell_type": "code",
      "source": [
        "time.sleep(1)\n",
        "# store end time\n",
        "end = time.time()\n",
        "  \n",
        "# total time taken\n",
        "print(f\"Total runtime of the program is {end - begin} seconds\")"
      ],
      "metadata": {
        "colab": {
          "base_uri": "https://localhost:8080/"
        },
        "id": "BMFZtM86mQj2",
        "outputId": "2af5bdec-d3d8-4f96-dc12-52557f0cdc44"
      },
      "execution_count": 31,
      "outputs": [
        {
          "output_type": "stream",
          "name": "stdout",
          "text": [
            "Total runtime of the program is 54.44748330116272 seconds\n"
          ]
        }
      ]
    }
  ]
}